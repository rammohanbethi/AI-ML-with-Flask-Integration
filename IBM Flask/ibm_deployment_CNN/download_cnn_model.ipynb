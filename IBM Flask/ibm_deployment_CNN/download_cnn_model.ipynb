{
 "cells": [
  {
   "cell_type": "code",
   "execution_count": 1,
   "metadata": {},
   "outputs": [
    {
     "name": "stdout",
     "output_type": "stream",
     "text": [
      "Collecting watson-machine-learning-client\n",
      "  Downloading watson_machine_learning_client-1.0.389-py3-none-any.whl (538 kB)\n",
      "Requirement already satisfied, skipping upgrade: boto3 in c:\\users\\prads\\anaconda3\\lib\\site-packages (from watson-machine-learning-client) (1.14.58)\n",
      "Collecting tabulate\n",
      "  Downloading tabulate-0.8.7-py3-none-any.whl (24 kB)\n",
      "Requirement already satisfied, skipping upgrade: urllib3 in c:\\users\\prads\\anaconda3\\lib\\site-packages (from watson-machine-learning-client) (1.26.2)\n",
      "Requirement already satisfied, skipping upgrade: pandas in c:\\users\\prads\\anaconda3\\lib\\site-packages (from watson-machine-learning-client) (0.24.2)\n",
      "Requirement already satisfied, skipping upgrade: requests in c:\\users\\prads\\anaconda3\\lib\\site-packages (from watson-machine-learning-client) (2.25.1)\n",
      "Requirement already satisfied, skipping upgrade: ibm-cos-sdk in c:\\users\\prads\\anaconda3\\lib\\site-packages (from watson-machine-learning-client) (2.7.0)\n",
      "Collecting lomond\n",
      "  Using cached lomond-0.3.3-py2.py3-none-any.whl (35 kB)\n",
      "Requirement already satisfied, skipping upgrade: certifi in c:\\users\\prads\\anaconda3\\lib\\site-packages (from watson-machine-learning-client) (2020.12.5)\n",
      "Requirement already satisfied, skipping upgrade: tqdm in c:\\users\\prads\\anaconda3\\lib\\site-packages (from watson-machine-learning-client) (4.42.1)\n",
      "Requirement already satisfied, skipping upgrade: s3transfer<0.4.0,>=0.3.0 in c:\\users\\prads\\anaconda3\\lib\\site-packages (from boto3->watson-machine-learning-client) (0.3.3)\n",
      "Requirement already satisfied, skipping upgrade: jmespath<1.0.0,>=0.7.1 in c:\\users\\prads\\anaconda3\\lib\\site-packages (from boto3->watson-machine-learning-client) (0.10.0)\n",
      "Requirement already satisfied, skipping upgrade: botocore<1.18.0,>=1.17.58 in c:\\users\\prads\\anaconda3\\lib\\site-packages (from boto3->watson-machine-learning-client) (1.17.58)\n",
      "Requirement already satisfied, skipping upgrade: python-dateutil>=2.5.0 in c:\\users\\prads\\anaconda3\\lib\\site-packages (from pandas->watson-machine-learning-client) (2.8.1)\n",
      "Requirement already satisfied, skipping upgrade: numpy>=1.12.0 in c:\\users\\prads\\anaconda3\\lib\\site-packages (from pandas->watson-machine-learning-client) (1.18.1)\n",
      "Requirement already satisfied, skipping upgrade: pytz>=2011k in c:\\users\\prads\\anaconda3\\lib\\site-packages (from pandas->watson-machine-learning-client) (2019.3)\n",
      "Requirement already satisfied, skipping upgrade: chardet<5,>=3.0.2 in c:\\users\\prads\\anaconda3\\lib\\site-packages (from requests->watson-machine-learning-client) (4.0.0)\n",
      "Requirement already satisfied, skipping upgrade: idna<3,>=2.5 in c:\\users\\prads\\anaconda3\\lib\\site-packages (from requests->watson-machine-learning-client) (2.10)\n",
      "Requirement already satisfied, skipping upgrade: ibm-cos-sdk-s3transfer==2.7.0 in c:\\users\\prads\\anaconda3\\lib\\site-packages (from ibm-cos-sdk->watson-machine-learning-client) (2.7.0)\n",
      "Requirement already satisfied, skipping upgrade: ibm-cos-sdk-core==2.7.0 in c:\\users\\prads\\anaconda3\\lib\\site-packages (from ibm-cos-sdk->watson-machine-learning-client) (2.7.0)\n",
      "Requirement already satisfied, skipping upgrade: six>=1.10.0 in c:\\users\\prads\\anaconda3\\lib\\site-packages (from lomond->watson-machine-learning-client) (1.15.0)\n",
      "Requirement already satisfied, skipping upgrade: docutils<0.16,>=0.10 in c:\\users\\prads\\anaconda3\\lib\\site-packages (from botocore<1.18.0,>=1.17.58->boto3->watson-machine-learning-client) (0.15.2)\n",
      "Installing collected packages: tabulate, lomond, watson-machine-learning-client\n",
      "Successfully installed lomond-0.3.3 tabulate-0.8.7 watson-machine-learning-client-1.0.389\n"
     ]
    },
    {
     "name": "stderr",
     "output_type": "stream",
     "text": [
      "WARNING: You are using pip version 20.2.3; however, version 20.3.3 is available.\n",
      "You should consider upgrading via the 'C:\\Users\\prads\\anaconda3\\python.exe -m pip install --upgrade pip' command.\n"
     ]
    }
   ],
   "source": [
    "!pip install watson-machine-learning-client "
   ]
  },
  {
   "cell_type": "code",
   "execution_count": 1,
   "metadata": {},
   "outputs": [],
   "source": [
    "# Replace the credentials that you got from Watson Machine Learning service\n",
    "from ibm_watson_machine_learning import APIClient\n",
    "wml_credentials = {\n",
    "                   \"url\": \"https://us-south.ml.cloud.ibm.com\",\n",
    "                   \"apikey\":\"aJS_WETl0_dtnNwaMrd9-d7x-fDLfsJm0_y1k9kctA30\"\n",
    "                  }\n",
    "\n",
    "client = APIClient(wml_credentials)"
   ]
  },
  {
   "cell_type": "code",
   "execution_count": 2,
   "metadata": {},
   "outputs": [],
   "source": [
    "client = APIClient(wml_credentials)"
   ]
  },
  {
   "cell_type": "code",
   "execution_count": 4,
   "metadata": {},
   "outputs": [],
   "source": [
    "def guid_from_space_name(client, space_name):\n",
    "    space = client.spaces.get_details()\n",
    "    #print(space)\n",
    "    return(next(item for item in space['resources'] if item['entity'][\"name\"] == space_name)['metadata']['id'])"
   ]
  },
  {
   "cell_type": "code",
   "execution_count": 5,
   "metadata": {},
   "outputs": [
    {
     "name": "stdout",
     "output_type": "stream",
     "text": [
      "Space UID = d9d7231a-b2cd-48c9-b789-8fb872192422\n"
     ]
    }
   ],
   "source": [
    "space_uid = guid_from_space_name(client, 'imageclassification')\n",
    "print(\"Space UID = \" + space_uid)"
   ]
  },
  {
   "cell_type": "code",
   "execution_count": 6,
   "metadata": {},
   "outputs": [
    {
     "data": {
      "text/plain": [
       "'SUCCESS'"
      ]
     },
     "execution_count": 6,
     "metadata": {},
     "output_type": "execute_result"
    }
   ],
   "source": [
    "client.set.default_space(space_uid)"
   ]
  },
  {
   "cell_type": "code",
   "execution_count": 7,
   "metadata": {},
   "outputs": [
    {
     "name": "stdout",
     "output_type": "stream",
     "text": [
      "Successfully saved model content to file: 'animal.tar.gz'\n"
     ]
    },
    {
     "data": {
      "text/plain": [
       "'E:\\\\Training\\\\Stanley/animal.tar.gz'"
      ]
     },
     "execution_count": 7,
     "metadata": {},
     "output_type": "execute_result"
    }
   ],
   "source": [
    "client.repository.download(\"1cf3073e-a8e3-4a1c-af54-586de067eb70\", 'animal.tar.gz')"
   ]
  },
  {
   "cell_type": "code",
   "execution_count": null,
   "metadata": {},
   "outputs": [],
   "source": []
  }
 ],
 "metadata": {
  "kernelspec": {
   "display_name": "Python 3",
   "language": "python",
   "name": "python3"
  },
  "language_info": {
   "codemirror_mode": {
    "name": "ipython",
    "version": 3
   },
   "file_extension": ".py",
   "mimetype": "text/x-python",
   "name": "python",
   "nbconvert_exporter": "python",
   "pygments_lexer": "ipython3",
   "version": "3.7.6"
  }
 },
 "nbformat": 4,
 "nbformat_minor": 4
}
